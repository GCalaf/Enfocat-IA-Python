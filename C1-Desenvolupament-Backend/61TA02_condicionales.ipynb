{
 "cells": [
  {
   "cell_type": "markdown",
   "id": "aa4b1217-8346-4891-afca-367b189b074d",
   "metadata": {},
   "source": [
    "# Ejercicios de Condicionales"
   ]
  },
  {
   "cell_type": "markdown",
   "id": "7cb24a4b-9cd6-4e25-9f8d-3a1294c90d50",
   "metadata": {},
   "source": [
    "## Ejercicio 1\n",
    "Escribir un programa que pregunte al usuario su edad y muestre por pantalla si es mayor de edad o no."
   ]
  },
  {
   "cell_type": "code",
   "execution_count": 10,
   "id": "b9b7cf2d-a855-4d17-849a-98d2bea2190c",
   "metadata": {},
   "outputs": [
    {
     "name": "stdin",
     "output_type": "stream",
     "text": [
      "Introduce tu edad:  18\n"
     ]
    },
    {
     "name": "stdout",
     "output_type": "stream",
     "text": [
      "Eres mayor de edad\n"
     ]
    }
   ],
   "source": [
    "edad = int(input(\"Introduce tu edad: \"))\n",
    "if edad < 18:\n",
    "    print(\"Eres menor de edad\")\n",
    "else:\n",
    "    print(\"Eres mayor de edad\")"
   ]
  },
  {
   "cell_type": "markdown",
   "id": "1dac8faa-06a6-4417-bd68-33ce77750ea9",
   "metadata": {},
   "source": [
    "## Ejercicio 2\n",
    "Escribir un programa que almacene la cadena de caracteres contraseña en una variable, pregunte al usuario por la contraseña e imprima por pantalla si la contraseña introducida por el usuario coincide con la guardada en la variable sin tener en cuenta mayúsculas y minúsculas."
   ]
  },
  {
   "cell_type": "code",
   "execution_count": 18,
   "id": "2f33dc18-ef82-438e-9522-ec178a1b9342",
   "metadata": {},
   "outputs": [
    {
     "name": "stdin",
     "output_type": "stream",
     "text": [
      "Introduce la contraseña:  PruEba\n"
     ]
    },
    {
     "name": "stdout",
     "output_type": "stream",
     "text": [
      "Las contraseñas coinciden\n"
     ]
    }
   ],
   "source": [
    "contrasena = \"PrUeBa\"\n",
    "contrasena_usuario = input(\"Introduce la contraseña: \")\n",
    "if contrasena.casefold() == contrasena_usuario.casefold():\n",
    "    print(\"Las contraseñas coinciden\")\n",
    "else:\n",
    "    print(\"Las contraseñas no coinciden\")"
   ]
  },
  {
   "cell_type": "markdown",
   "id": "35baa29c-0a32-4a95-a667-94002f5667b5",
   "metadata": {},
   "source": [
    "## Ejercicio 3\n",
    "Escribir un programa que pida al usuario dos números y muestre por pantalla su\n",
    "división. Si el divisor es cero el programa debe mostrar un error."
   ]
  },
  {
   "cell_type": "code",
   "execution_count": 22,
   "id": "b9a29d29-39c0-4672-a6c5-06a7a9037aba",
   "metadata": {},
   "outputs": [
    {
     "name": "stdin",
     "output_type": "stream",
     "text": [
      "Introduce un dividendo:  10\n",
      "Introduce un divisor:  5\n"
     ]
    },
    {
     "name": "stdout",
     "output_type": "stream",
     "text": [
      "2.0\n"
     ]
    }
   ],
   "source": [
    "dividendo = int(input(\"Introduce un dividendo: \"))\n",
    "divisor = int(input(\"Introduce un divisor: \"))\n",
    "if divisor == 0:\n",
    "    print(\"Error, no se puede dividir entre 0\")\n",
    "else:\n",
    "    print(dividendo/divisor)"
   ]
  },
  {
   "cell_type": "markdown",
   "id": "abd940e1-088a-4231-8b3d-a51931c78cb1",
   "metadata": {},
   "source": [
    "## Ejercicio 4\n",
    "Escribir un programa que pida al usuario un número entero y muestre por pantalla si\n",
    "es par o impar."
   ]
  },
  {
   "cell_type": "code",
   "execution_count": 28,
   "id": "562e66e5-0a4e-44d8-82a2-429dd2da6cb9",
   "metadata": {},
   "outputs": [
    {
     "name": "stdin",
     "output_type": "stream",
     "text": [
      "Introduce un número:  16\n"
     ]
    },
    {
     "name": "stdout",
     "output_type": "stream",
     "text": [
      "El número es par\n"
     ]
    }
   ],
   "source": [
    "num = int(input(\"Introduce un número: \"))\n",
    "if num % 2 == 0:\n",
    "    print(\"El número es par\")\n",
    "else:\n",
    "    print(\"El número es impar\")"
   ]
  },
  {
   "cell_type": "markdown",
   "id": "78df7cee-18c3-4ef7-9723-62bec37ad480",
   "metadata": {},
   "source": [
    "## Ejercicio 5\n",
    "Para tributar un determinado impuesto se debe ser mayor de 16 años y tener unos\n",
    "ingresos iguales o superiores a 1000 € mensuales. Escribir un programa que pregunte\n",
    "al usuario su edad y sus ingresos mensuales y muestre por pantalla si el usuario tiene\n",
    "que tributar o no."
   ]
  },
  {
   "cell_type": "code",
   "execution_count": 36,
   "id": "0c7b024a-3c43-449d-92c9-537e5bd1b432",
   "metadata": {},
   "outputs": [
    {
     "name": "stdin",
     "output_type": "stream",
     "text": [
      "Introduce tu edad:  16\n",
      "Introduce tus ingresos mensuales:  900\n"
     ]
    },
    {
     "name": "stdout",
     "output_type": "stream",
     "text": [
      "No tienes que tributar\n"
     ]
    }
   ],
   "source": [
    "edad = int(input(\"Introduce tu edad: \"))\n",
    "ingresos_mensuales = float(input(\"Introduce tus ingresos mensuales: \"))\n",
    "if edad >= 16 and ingresos_mensuales >= 1000:\n",
    "    print(\"Tienes que tributar\")\n",
    "else:\n",
    "    print(\"No tienes que tributar\")"
   ]
  },
  {
   "cell_type": "markdown",
   "id": "dcac7aee-86c9-4aaa-a8ca-06a6738400e3",
   "metadata": {},
   "source": [
    "## Ejercicio 6\n",
    "Los alumnos de un curso se han dividido en dos grupos A y B de acuerdo al sexo y el\n",
    "nombre. El grupo A esta formado por las mujeres con un nombre anterior a la M y los\n",
    "hombres con un nombre posterior a la N y el grupo B por el resto. Escribir un programa\n",
    "que pregunte al usuario su nombre y sexo, y muestre por pantalla el grupo que le\n",
    "corresponde."
   ]
  },
  {
   "cell_type": "code",
   "execution_count": 57,
   "id": "0dd08129-fd17-4114-b0f0-b1c0974b7dc4",
   "metadata": {},
   "outputs": [
    {
     "name": "stdin",
     "output_type": "stream",
     "text": [
      "Introduce tu nombre:  Guillem\n",
      "Introduce tu sexo (M/F):  M\n"
     ]
    },
    {
     "name": "stdout",
     "output_type": "stream",
     "text": [
      "Perteneces al grupo B\n"
     ]
    }
   ],
   "source": [
    "import string\n",
    "grupo_af = string.ascii_lowercase[:13]\n",
    "grupo_am = string.ascii_lowercase[13:]\n",
    "nombre = input(\"Introduce tu nombre: \")\n",
    "sexo = input(\"Introduce tu sexo (M/F): \")\n",
    "if sexo == 'F' and nombre[0].casefold() in grupo_af or sexo == 'M' and nombre[0].casefold() in grupo_am:\n",
    "    print(\"Perteneces al grupo A\")\n",
    "else:\n",
    "    print(\"Perteneces al grupo B\")"
   ]
  },
  {
   "cell_type": "markdown",
   "id": "29f111f4-77ce-48ac-9149-9deebbcbfdd0",
   "metadata": {},
   "source": [
    "## Ejercicio 7\n",
    "Los tramos impositivos para la declaración de la renta en un determinado país son los\n",
    "siguientes:\n",
    "Renta Tipo impositivo\n",
    "Menos de 10000€ 5%\n",
    "Entre 10000€ y 20000€ 15%\n",
    "Entre 20000€ y 35000€ 20%\n",
    "Entre 35000€ y 60000€ 30%\n",
    "Más de 60000€ 45%\n",
    "Escribir un programa que pregunte al usuario su renta anual y muestre por pantalla el\n",
    "tipo impositivo que le corresponde."
   ]
  },
  {
   "cell_type": "code",
   "execution_count": 87,
   "id": "3152ff5b-9e98-43ef-b99f-b26c0021be2b",
   "metadata": {},
   "outputs": [
    {
     "name": "stdin",
     "output_type": "stream",
     "text": [
      "Introduce tu renta anual:  36000\n"
     ]
    },
    {
     "name": "stdout",
     "output_type": "stream",
     "text": [
      "Tipo impositivo: 30%\n"
     ]
    }
   ],
   "source": [
    "renta_anual = float(input(\"Introduce tu renta anual: \"))\n",
    "match renta_anual:\n",
    "    case n if n < 10000:\n",
    "        print(\"Tipo impositivo: 5%\")\n",
    "    case n if n >= 10000 and n < 20000:\n",
    "        print(\"Tipo impositivo: 15%\")\n",
    "    case n if n >= 20000 and n < 35000:\n",
    "        print(\"Tipo impositivo: 20%\")\n",
    "    case n if n >= 35000 and n < 60000:\n",
    "        print(\"Tipo impositivo: 30%\")\n",
    "    case n if n >= 60000:\n",
    "        print(\"Tipo impositivo: 45%\")"
   ]
  },
  {
   "cell_type": "markdown",
   "id": "d3ef3f61-246c-4a87-88da-beffbb9e97f4",
   "metadata": {},
   "source": [
    "## Ejercicio 8\n",
    "En una determinada empresa, sus empleados son evaluados al final de cada año. Los\n",
    "puntos que pueden obtener en la evaluación comienzan en 0.0 y pueden ir\n",
    "aumentando, traduciéndose en mejores beneficios. Los puntos que pueden conseguir\n",
    "los empleados pueden ser 0.0, 0.4, 0.6 o más, pero no valores intermedios entre las\n",
    "cifras mencionadas. A continuación se muestra una tabla con los niveles\n",
    "correspondientes a cada puntuación. La cantidad de dinero conseguida en cada nivel\n",
    "es de 2.400€ multiplicada por la puntuación del nivel.\n",
    "Nivel Puntuación\n",
    "\n",
    "Inaceptable 0.0\n",
    "\n",
    "Aceptable 0.4\n",
    "\n",
    "Meritorio 0.6 o más\n",
    "\n",
    "Escribir un programa que lea la puntuación del usuario e indique su nivel de\n",
    "rendimiento, así como la cantidad de dinero que recibirá el usuario."
   ]
  },
  {
   "cell_type": "code",
   "execution_count": 9,
   "id": "28fe5247-1d68-46d9-a805-6824b2585258",
   "metadata": {},
   "outputs": [
    {
     "name": "stdin",
     "output_type": "stream",
     "text": [
      "Introduce tu puntuación:  0.6\n"
     ]
    },
    {
     "name": "stdout",
     "output_type": "stream",
     "text": [
      "Tu nivel de rendimiento és Meritorio, recibirás € 3840.0\n"
     ]
    }
   ],
   "source": [
    "sueldo = 2_400\n",
    "puntuacion = float(input(\"Introduce tu puntuación: \"))\n",
    "match puntuacion:\n",
    "    case 0.0:\n",
    "        bonus = sueldo * puntuacion\n",
    "        print(\"Tu nivel de rendimiento és Inaceptable, recibirás €\", sueldo + bonus)\n",
    "    case 0.4:\n",
    "        bonus = sueldo * puntuacion\n",
    "        print(\"Tu nivel de rendimiento és Aceptable, recibirás €\", sueldo + bonus)\n",
    "    case n if n >= 0.6:\n",
    "        bonus = sueldo * puntuacion\n",
    "        print(\"Tu nivel de rendimiento és Meritorio, recibirás €\", sueldo + bonus)\n",
    "    case _:\n",
    "        print(\"Error, la puntuación introducida no es correcta\")"
   ]
  },
  {
   "cell_type": "markdown",
   "id": "2a1e4403-2aa9-44a6-b26f-88f406c24116",
   "metadata": {},
   "source": [
    "## Ejercicio 9\n",
    "Escribir un programa para una empresa que tiene salas de juegos para todas las\n",
    "edades y quiere calcular de forma automática el precio que debe cobrar a sus clientes\n",
    "por entrar. El programa debe preguntar al usuario la edad del cliente y mostrar el\n",
    "precio de la entrada. Si el cliente es menor de 4 años puede entrar gratis, si tiene entre\n",
    "4 y 18 años debe pagar 5€ y si es mayor de 18 años, 10€."
   ]
  },
  {
   "cell_type": "code",
   "execution_count": 97,
   "id": "8cf294ff-5a08-4959-9b8e-4b61c215a0cd",
   "metadata": {},
   "outputs": [
    {
     "name": "stdin",
     "output_type": "stream",
     "text": [
      "Introduce tu edad:  18\n"
     ]
    },
    {
     "name": "stdout",
     "output_type": "stream",
     "text": [
      "Debes pagar 10€\n"
     ]
    }
   ],
   "source": [
    "edad = int(input(\"Introduce tu edad: \"))\n",
    "match edad:\n",
    "    case n if n < 4:\n",
    "        print(\"Puedes entrar gratis!\")\n",
    "    case n if n >= 4 and n < 18:\n",
    "        print(\"Debes pagar 5€\")\n",
    "    case n if n >= 18:\n",
    "        print(\"Debes pagar 10€\")"
   ]
  },
  {
   "cell_type": "markdown",
   "id": "e1714d1c-25f6-4454-ac1d-e20bf06349f4",
   "metadata": {},
   "source": [
    "## Ejercicio 10\n",
    "La pizzería Bella Napoli ofrece pizzas vegetarianas y no vegetarianas a sus clientes. Los\n",
    "ingredientes para cada tipo de pizza aparecen a continuación.\n",
    "- Ingredientes vegetarianos: Pimiento y tofu.\n",
    "- Ingredientes no vegetarianos: Peperoni, Jamón y Salmón.\n",
    "\n",
    "Escribir un programa que pregunte al usuario si quiere una pizza vegetariana o no, y en\n",
    "función de su respuesta le muestre un menú con los ingredientes disponibles para que\n",
    "elija. Solo se puede eligir un ingrediente además de la mozzarella y el tomate que\n",
    "están en todas la pizzas. Al final se debe mostrar por pantalla si la pizza elegida es\n",
    "vegetariana o no y todos los ingredientes que lleva."
   ]
  },
  {
   "cell_type": "code",
   "execution_count": 133,
   "id": "451f232c-d1e3-43bb-bdfa-4fbe0f19119f",
   "metadata": {},
   "outputs": [
    {
     "name": "stdin",
     "output_type": "stream",
     "text": [
      "¿Quieres una pizza vegetariana (S/N)?  N\n",
      "Selecciona el número de uno de los ingredientes de la lista: {1: 'Peperoni', 2: 'Jamón', 3: 'Salmón'} 3\n"
     ]
    },
    {
     "name": "stdout",
     "output_type": "stream",
     "text": [
      "La pizza elegida no es vegetariana y contiene los siguientes ingredientes: Mozzarella, Tomate, Salmón\n"
     ]
    }
   ],
   "source": [
    "menu_v = {1:\"Pimiento\", 2:\"Tofu\"}\n",
    "menu_nv = {1:\"Peperoni\", 2:\"Jamón\", 3:\"Salmón\"}\n",
    "tipo_pizza = input(\"¿Quieres una pizza vegetariana (S/N)? \")\n",
    "match tipo_pizza:\n",
    "    case 'S':\n",
    "        ingrediente = int(input(\"Selecciona el número de uno de los ingredientes de la lista: \"+str(menu_v)))\n",
    "        print(\"La pizza elegida es vegetariana y contiene los siguientes ingredientes: Mozzarella, Tomate,\", menu_v[ingrediente])\n",
    "    case 'N':\n",
    "        ingrediente = int(input(\"Selecciona el número de uno de los ingredientes de la lista: \"+str(menu_nv)))\n",
    "        print(\"La pizza elegida no es vegetariana y contiene los siguientes ingredientes: Mozzarella, Tomate,\", menu_nv[ingrediente])\n",
    "    case _:\n",
    "        print(\"Error, selecciona introduce S o N en mayúsculas.\")"
   ]
  }
 ],
 "metadata": {
  "kernelspec": {
   "display_name": "Python [conda env:base] *",
   "language": "python",
   "name": "conda-base-py"
  },
  "language_info": {
   "codemirror_mode": {
    "name": "ipython",
    "version": 3
   },
   "file_extension": ".py",
   "mimetype": "text/x-python",
   "name": "python",
   "nbconvert_exporter": "python",
   "pygments_lexer": "ipython3",
   "version": "3.12.7"
  }
 },
 "nbformat": 4,
 "nbformat_minor": 5
}
